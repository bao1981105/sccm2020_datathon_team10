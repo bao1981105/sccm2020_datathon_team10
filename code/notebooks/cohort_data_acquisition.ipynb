{
 "cells": [
  {
   "cell_type": "code",
   "execution_count": 102,
   "metadata": {},
   "outputs": [],
   "source": [
    "import pandas as pd\n",
    "import os"
   ]
  },
  {
   "cell_type": "code",
   "execution_count": 103,
   "metadata": {},
   "outputs": [],
   "source": [
    "from sqlalchemy.engine import create_engine\n",
    "\n",
    "engine = create_engine('postgresql://localhost/mimic') "
   ]
  },
  {
   "cell_type": "code",
   "execution_count": 104,
   "metadata": {},
   "outputs": [
    {
     "name": "stdout",
     "output_type": "stream",
     "text": [
      "The sql extension is already loaded. To reload it, use:\n",
      "  %reload_ext sql\n"
     ]
    }
   ],
   "source": [
    "%load_ext sql"
   ]
  },
  {
   "cell_type": "code",
   "execution_count": 105,
   "metadata": {},
   "outputs": [],
   "source": [
    "sepsis3 = pd.read_csv('~/Downloads/sepsis3.csv')"
   ]
  },
  {
   "cell_type": "code",
   "execution_count": 106,
   "metadata": {},
   "outputs": [],
   "source": [
    "os.environ['DATABASE_URL'] = 'postgresql://localhost/mimic'"
   ]
  },
  {
   "cell_type": "code",
   "execution_count": 107,
   "metadata": {},
   "outputs": [
    {
     "name": "stdout",
     "output_type": "stream",
     "text": [
      " * postgresql://localhost/mimic\n",
      "Done.\n"
     ]
    },
    {
     "data": {
      "text/plain": [
       "[]"
      ]
     },
     "execution_count": 107,
     "metadata": {},
     "output_type": "execute_result"
    }
   ],
   "source": [
    "%%sql\n",
    "SET search_path TO mimiciii;"
   ]
  },
  {
   "cell_type": "code",
   "execution_count": 108,
   "metadata": {},
   "outputs": [
    {
     "name": "stdout",
     "output_type": "stream",
     "text": [
      " * postgresql://localhost/mimic\n",
      "61532 rows affected.\n",
      "Returning data to local variable total_cohort\n"
     ]
    }
   ],
   "source": [
    "%%sql total_cohort << \n",
    "\n",
    "WITH patientcohort AS (\n",
    "  select \n",
    "    t1.hadm_id, \n",
    "    t1.ethnicity, \n",
    "    t1.admittime, \n",
    "    (\n",
    "      extract(\n",
    "        year \n",
    "        from \n",
    "          t1.admittime\n",
    "      ) - extract(\n",
    "        year \n",
    "        from \n",
    "          t2.dob\n",
    "      )\n",
    "    ) as age_yr, \n",
    "    t2.gender, \n",
    "    t2.dob, \n",
    "    t2.dod, \n",
    "    t2.dod_hosp, \n",
    "    t2.dod_ssn, \n",
    "    t2.expire_flag \n",
    "  from \n",
    "    admissions t1 \n",
    "    left join patients t2 on t1.subject_id = t2.subject_id\n",
    "), \n",
    "oasisscores as (\n",
    "  select \n",
    "    icustay_id, \n",
    "    oasis \n",
    "  from \n",
    "    oasis\n",
    "), \n",
    "vasop_1 as (\n",
    "  SELECT vaso.icustay_id, MIN(starttime) as vaso_start, MAX(CASE WHEN endtime > intime + interval '24 hours' THEN intime + interval '24 hours' ELSE endtime END) as vaso_end, SUM(amount) as max_vaso_dosage\n",
    "  FROM VASOPRESSORDURATIONS_WO_MILI_DOBU vaso\n",
    "  LEFT JOIN icustays ic ON ic.icustay_id = vaso.icustay_id\n",
    "  WHERE intime + interval '24 hours' > starttime\n",
    "  GROUP BY vaso.icustay_id\n",
    "),\n",
    "vasop_2 as (\n",
    "    SELECT icustay_id, extract(epoch from vaso_end - vaso_start)/(60*60.0) as vaso_duration, max_vaso_dosage\n",
    "    FROM vasop_1\n",
    "),\n",
    "heightweight as (\n",
    "  select \n",
    "    icustay_id, \n",
    "    coalesce(\n",
    "      height_first, height_max, height_min\n",
    "    ) as height, \n",
    "    coalesce(\n",
    "      weight_first, weight_max, weight_min\n",
    "    ) as weight \n",
    "  from \n",
    "    heightweight\n",
    "), \n",
    "icustays as(\n",
    "  select \n",
    "    t2.HADM_ID, \n",
    "    t2.ICUSTAY_ID, \n",
    "    t2.INTIME, \n",
    "    t2.OUTTIME, \n",
    "    t2.first_careunit, \n",
    "    t2.LOS\n",
    "  from \n",
    "    admissions t1 \n",
    "    left join icustays t2 on t1.HADM_ID = t2.HADM_ID\n",
    "), \n",
    "firstdaylabs as (\n",
    "  select \n",
    "    icustay_id, \n",
    "    creatinine_max, \n",
    "    creatinine_min, \n",
    "    bicarbonate_min, \n",
    "    bicarbonate_max, \n",
    "    lactate_min, \n",
    "    lactate_max, \n",
    "    potassium_min, \n",
    "    potassium_max, \n",
    "    bun_min, \n",
    "    bun_max, \n",
    "    wbc_min, \n",
    "    wbc_max \n",
    "  from \n",
    "    labsfirstday\n",
    "), \n",
    "bloodgasfday as (\n",
    "  select \n",
    "    icustay_id, \n",
    "    min(ph) as ph \n",
    "  from \n",
    "    bloodgasfirstday \n",
    "  group by \n",
    "    icustay_id\n",
    "), \n",
    "sofa as (\n",
    "  select \n",
    "    icustay_id, \n",
    "    sofa \n",
    "  from \n",
    "    sofa\n",
    "), \n",
    "sapsii as (\n",
    "  select \n",
    "    icustay_id, \n",
    "    sapsii \n",
    "  from \n",
    "    sapsii\n",
    "), \n",
    "all_patient as (\n",
    "  select \n",
    "    p.SUBJECT_ID, \n",
    "    p.gender, \n",
    "    p.dob, \n",
    "    p.dod, \n",
    "    p.dod_hosp, \n",
    "    p.expire_flag \n",
    "  from \n",
    "    patients p\n",
    "), \n",
    "cleaned_admission as (\n",
    "  select \n",
    "    a.hadm_id, \n",
    "    SUBJECT_ID, \n",
    "    a.ethnicity, \n",
    "    a.admittime, \n",
    "    DISCHTIME, \n",
    "    ADMISSION_TYPE, \n",
    "    DEATHTIME, \n",
    "    DIAGNOSIS, \n",
    "    HOSPITAL_EXPIRE_FLAG,\n",
    "    admission_location\n",
    "  from \n",
    "    admissions a\n",
    "),\n",
    "kdigo_stages_max_1 as (\n",
    "    SELECT kd.icustay_id, max(aki_stage) as max_aki_score\n",
    "    FROM kdigo_stages kd\n",
    "    LEFT JOIN icustays ic ON ic.icustay_id = kd.icustay_id\n",
    "    WHERE\n",
    "        charttime < intime + interval '24 hours'\n",
    "    group by kd.icustay_id\n",
    "),  \n",
    "kdigo_stages_max as (\n",
    "    SELECT mo.icustay_id, min(max_aki_score) as max, min(charttime) as time\n",
    "    FROM kdigo_stages_max_1 mo\n",
    "    LEFT JOIN kdigo_stages kd ON mo.icustay_id = kd.icustay_id\n",
    "    WHERE kd.aki_stage = max_aki_score\n",
    "    GROUP BY mo.icustay_id\n",
    "),\n",
    "was_ventilated_24h as (\n",
    " SELECT vent.icustay_id, CASE WHEN min(extract(epoch from starttime)) <= extract(epoch from intime) + 24*60*60 THEN 1 ELSE 0 END as was_ventilated_24h\n",
    " FROM ventdurations vent\n",
    "    LEFT JOIN icustays ic ON ic.icustay_id = vent.icustay_id\n",
    " GROUP BY vent.icustay_id, ic.intime\n",
    "),\n",
    "wtdiff as (\n",
    "  with wtmaxmin as (\n",
    "    select \n",
    "      icustay_id, \n",
    "      max(weight) as wt_max, \n",
    "      min(weight) as wt_min \n",
    "    from \n",
    "      weightdurations \n",
    "    group by \n",
    "      icustay_id\n",
    "  ), \n",
    "  wtdayone as (\n",
    "    select \n",
    "      icustay_id, \n",
    "      coalesce(weight_admit, weight) as wt_dayone \n",
    "    from \n",
    "      weightfirstday\n",
    "  ) \n",
    "  select \n",
    "    t1.icustay_id, \n",
    "    t1.wt_max, \n",
    "    t1.wt_min, \n",
    "    t2.wt_dayone, \n",
    "    (t1.wt_max - t2.wt_dayone) as wtdifft0, \n",
    "    (t1.wt_max - t1.wt_min) as wtdiffmaxmin \n",
    "  from \n",
    "    wtmaxmin t1 \n",
    "    join wtdayone t2 on t1.icustay_id = t2.icustay_id \n",
    "  where \n",
    "    (t1.wt_max - t2.wt_dayone)>= 0.01\n",
    ") \n",
    "SELECT \n",
    "  p.SUBJECT_ID, \n",
    "  icustays.ICUSTAY_ID, \n",
    "  p.gender, \n",
    "  p.dob, \n",
    "  age_yr, \n",
    "  p.dod, \n",
    "  p.dod_hosp, \n",
    "  p.expire_flag, \n",
    "  a.hadm_id, \n",
    "  a.ADMISSION_TYPE, \n",
    "  a.ethnicity, \n",
    "  a.admittime, \n",
    "  a.DISCHTIME, \n",
    "  a.DEATHTIME, \n",
    "  a.DIAGNOSIS, \n",
    "  a.HOSPITAL_EXPIRE_FLAG, \n",
    "  a.admission_location,\n",
    "  icustays.INTIME, \n",
    "  icustays.OUTTIME, \n",
    "  icustays.LOS, \n",
    "  icustays.first_careunit, \n",
    "  oasisscores.oasis, \n",
    "  heightweight.height, \n",
    "  heightweight.weight, \n",
    "HeartRate_Min\n",
    ",HeartRate_Max\n",
    ",HeartRate_Mean\n",
    ",SysBP_Min\n",
    ",SysBP_Max\n",
    ",SysBP_Mean\n",
    ",DiasBP_Min\n",
    ",DiasBP_Max\n",
    ",DiasBP_Mean\n",
    ",MeanBP_Min\n",
    ",MeanBP_Max\n",
    ",MeanBP_Mean\n",
    ",RespRate_Min\n",
    ",RespRate_Max\n",
    ",RespRate_Mean\n",
    ",TempC_Min\n",
    ",TempC_Max\n",
    ",TempC_Mean\n",
    ",SpO2_Min\n",
    ",SpO2_Max\n",
    ",SpO2_Mean\n",
    ",Glucose_Min\n",
    ",Glucose_Max\n",
    ",Glucose_Mean,\n",
    "  ph as min_ph_icustay, \n",
    "  sapsii.sapsii as sapsii_score, \n",
    "  sofa.sofa as sofa_score, \n",
    "  (extract(epoch from icustays.intime) - extract(epoch from a.admittime)) / (60*60*24) as los_preicu, \n",
    "  wtdifft0 as wtdiff,\n",
    "  kdigo_stages_max.max as max_kdigo,\n",
    "  kdigo_stages_max.time as max_kdigo_time,\n",
    "  was_ventilated_24h.was_ventilated_24h,\n",
    "vasop_2.vaso_duration, \n",
    "vasop_2.max_vaso_dosage\n",
    "from \n",
    "  all_patient p \n",
    "  right join cleaned_admission a on p.SUBJECT_ID = a.SUBJECT_ID \n",
    "  join icustays on icustays.HADM_ID = a.HADM_ID \n",
    "  left join oasisscores on icustays.icustay_id = oasisscores.icustay_id \n",
    "  left join heightweight on icustays.icustay_id = heightweight.icustay_id \n",
    "  left join firstdaylabs on icustays.icustay_id = firstdaylabs.icustay_id \n",
    "  left join bloodgasfday on icustays.icustay_id = bloodgasfday.icustay_id \n",
    "  left join sofa on icustays.icustay_id = sofa.icustay_id \n",
    "  left join sapsii on icustays.icustay_id = sapsii.icustay_id \n",
    "  left join patientcohort on icustays.hadm_id = patientcohort.hadm_id \n",
    "  left join wtdiff on icustays.icustay_id = wtdiff.icustay_id\n",
    "  left join vitalsfirstday on vitalsfirstday.icustay_id = icustays.icustay_id\n",
    "  left join kdigo_stages_max on kdigo_stages_max.icustay_id = icustays.icustay_id\n",
    "  left join was_ventilated_24h ON was_ventilated_24h.icustay_id = icustays.icustay_id\n",
    "  left join vasop_2 ON vasop_2.icustay_id = icustays.icustay_id"
   ]
  },
  {
   "cell_type": "code",
   "execution_count": null,
   "metadata": {},
   "outputs": [],
   "source": []
  },
  {
   "cell_type": "code",
   "execution_count": 109,
   "metadata": {},
   "outputs": [
    {
     "name": "stdout",
     "output_type": "stream",
     "text": [
      " * postgresql://localhost/mimic\n",
      "58976 rows affected.\n",
      "Returning data to local variable comorb_indicators\n"
     ]
    }
   ],
   "source": [
    "%%sql comorb_indicators <<\n",
    "SELECT *\n",
    "FROM ELIXHAUSER_QUAN"
   ]
  },
  {
   "cell_type": "code",
   "execution_count": 110,
   "metadata": {},
   "outputs": [],
   "source": [
    "comorb_indicators = comorb_indicators.DataFrame()"
   ]
  },
  {
   "cell_type": "code",
   "execution_count": 111,
   "metadata": {},
   "outputs": [
    {
     "name": "stdout",
     "output_type": "stream",
     "text": [
      " * postgresql://localhost/mimic\n",
      "5526 rows affected.\n",
      "Returning data to local variable crrt\n"
     ]
    }
   ],
   "source": [
    "%%sql crrt <<\n",
    "SELECT crrt.icustay_id, duration_hours as crrt_durations\n",
    "FROM crrtdurations crrt\n",
    "LEFT JOIN icustays ic on crrt.icustay_id = ic.icustay_id\n",
    "WHERE starttime > ic.intime + interval '24 hours'"
   ]
  },
  {
   "cell_type": "code",
   "execution_count": 112,
   "metadata": {},
   "outputs": [
    {
     "name": "stdout",
     "output_type": "stream",
     "text": [
      " * postgresql://localhost/mimic\n",
      "1446 rows affected.\n",
      "Returning data to local variable rrt\n"
     ]
    }
   ],
   "source": [
    "%%sql rrt <<\n",
    "SELECT rrt.icustay_id, MAX(1) as rrt\n",
    "FROM pivoted_rrt rrt\n",
    "LEFT JOIN icustays ic ON ic.icustay_id = rrt.icustay_id\n",
    "WHERE\n",
    "\trrt.charttime >= ic.intime + interval '24 hours'\n",
    "\tAND rrt.dialysis_active = 1\n",
    "\tAND rrt.dialysis_type <> 'Peritoneal'\n",
    "GROUP BY rrt.icustay_id"
   ]
  },
  {
   "cell_type": "code",
   "execution_count": 113,
   "metadata": {},
   "outputs": [],
   "source": [
    "rrt = rrt.DataFrame()"
   ]
  },
  {
   "cell_type": "code",
   "execution_count": 114,
   "metadata": {},
   "outputs": [
    {
     "name": "stdout",
     "output_type": "stream",
     "text": [
      " * postgresql://localhost/mimic\n",
      "61532 rows affected.\n",
      "Returning data to local variable icustays\n"
     ]
    }
   ],
   "source": [
    "%%sql icustays <<\n",
    "SELECT *\n",
    "FROM icustays"
   ]
  },
  {
   "cell_type": "code",
   "execution_count": 115,
   "metadata": {},
   "outputs": [
    {
     "name": "stdout",
     "output_type": "stream",
     "text": [
      " * postgresql://localhost/mimic\n",
      "1926 rows affected.\n",
      "Returning data to local variable esrd\n"
     ]
    }
   ],
   "source": [
    "%%sql esrd << \n",
    "SELECT hadm_id, 1 as esrd FROM diagnoses_icd di WHERE icd9_code = '5856' "
   ]
  },
  {
   "cell_type": "code",
   "execution_count": 116,
   "metadata": {},
   "outputs": [
    {
     "data": {
      "text/html": [
       "<div>\n",
       "<style scoped>\n",
       "    .dataframe tbody tr th:only-of-type {\n",
       "        vertical-align: middle;\n",
       "    }\n",
       "\n",
       "    .dataframe tbody tr th {\n",
       "        vertical-align: top;\n",
       "    }\n",
       "\n",
       "    .dataframe thead th {\n",
       "        text-align: right;\n",
       "    }\n",
       "</style>\n",
       "<table border=\"1\" class=\"dataframe\">\n",
       "  <thead>\n",
       "    <tr style=\"text-align: right;\">\n",
       "      <th></th>\n",
       "      <th>row_id</th>\n",
       "      <th>subject_id</th>\n",
       "      <th>hadm_id</th>\n",
       "      <th>icustay_id</th>\n",
       "      <th>dbsource</th>\n",
       "      <th>first_careunit</th>\n",
       "      <th>last_careunit</th>\n",
       "      <th>first_wardid</th>\n",
       "      <th>last_wardid</th>\n",
       "      <th>intime</th>\n",
       "      <th>outtime</th>\n",
       "      <th>los</th>\n",
       "    </tr>\n",
       "  </thead>\n",
       "  <tbody>\n",
       "    <tr>\n",
       "      <th>25</th>\n",
       "      <td>390</td>\n",
       "      <td>291</td>\n",
       "      <td>125726</td>\n",
       "      <td>275109</td>\n",
       "      <td>metavision</td>\n",
       "      <td>CCU</td>\n",
       "      <td>CCU</td>\n",
       "      <td>7</td>\n",
       "      <td>7</td>\n",
       "      <td>2106-04-17 12:26:17</td>\n",
       "      <td>2106-04-18 22:05:39</td>\n",
       "      <td>1.4023</td>\n",
       "    </tr>\n",
       "    <tr>\n",
       "      <th>26</th>\n",
       "      <td>391</td>\n",
       "      <td>291</td>\n",
       "      <td>126219</td>\n",
       "      <td>246725</td>\n",
       "      <td>metavision</td>\n",
       "      <td>MICU</td>\n",
       "      <td>MICU</td>\n",
       "      <td>52</td>\n",
       "      <td>52</td>\n",
       "      <td>2107-09-13 22:43:01</td>\n",
       "      <td>2107-09-14 18:34:48</td>\n",
       "      <td>0.8276</td>\n",
       "    </tr>\n",
       "    <tr>\n",
       "      <th>45</th>\n",
       "      <td>410</td>\n",
       "      <td>305</td>\n",
       "      <td>194340</td>\n",
       "      <td>217232</td>\n",
       "      <td>metavision</td>\n",
       "      <td>SICU</td>\n",
       "      <td>SICU</td>\n",
       "      <td>33</td>\n",
       "      <td>33</td>\n",
       "      <td>2129-09-03 12:31:31</td>\n",
       "      <td>2129-09-05 23:00:50</td>\n",
       "      <td>2.4370</td>\n",
       "    </tr>\n",
       "    <tr>\n",
       "      <th>130</th>\n",
       "      <td>90</td>\n",
       "      <td>85</td>\n",
       "      <td>112077</td>\n",
       "      <td>291697</td>\n",
       "      <td>metavision</td>\n",
       "      <td>MICU</td>\n",
       "      <td>MICU</td>\n",
       "      <td>23</td>\n",
       "      <td>23</td>\n",
       "      <td>2167-07-25 18:50:37</td>\n",
       "      <td>2167-07-27 18:37:35</td>\n",
       "      <td>1.9909</td>\n",
       "    </tr>\n",
       "    <tr>\n",
       "      <th>156</th>\n",
       "      <td>116</td>\n",
       "      <td>107</td>\n",
       "      <td>182383</td>\n",
       "      <td>252542</td>\n",
       "      <td>metavision</td>\n",
       "      <td>MICU</td>\n",
       "      <td>MICU</td>\n",
       "      <td>23</td>\n",
       "      <td>23</td>\n",
       "      <td>2121-11-30 19:24:56</td>\n",
       "      <td>2121-12-01 21:20:57</td>\n",
       "      <td>1.0806</td>\n",
       "    </tr>\n",
       "  </tbody>\n",
       "</table>\n",
       "</div>"
      ],
      "text/plain": [
       "     row_id  subject_id  hadm_id  icustay_id    dbsource first_careunit  \\\n",
       "25      390         291   125726      275109  metavision            CCU   \n",
       "26      391         291   126219      246725  metavision           MICU   \n",
       "45      410         305   194340      217232  metavision           SICU   \n",
       "130      90          85   112077      291697  metavision           MICU   \n",
       "156     116         107   182383      252542  metavision           MICU   \n",
       "\n",
       "    last_careunit  first_wardid  last_wardid              intime  \\\n",
       "25            CCU             7            7 2106-04-17 12:26:17   \n",
       "26           MICU            52           52 2107-09-13 22:43:01   \n",
       "45           SICU            33           33 2129-09-03 12:31:31   \n",
       "130          MICU            23           23 2167-07-25 18:50:37   \n",
       "156          MICU            23           23 2121-11-30 19:24:56   \n",
       "\n",
       "                outtime     los  \n",
       "25  2106-04-18 22:05:39  1.4023  \n",
       "26  2107-09-14 18:34:48  0.8276  \n",
       "45  2129-09-05 23:00:50  2.4370  \n",
       "130 2167-07-27 18:37:35  1.9909  \n",
       "156 2121-12-01 21:20:57  1.0806  "
      ]
     },
     "execution_count": 116,
     "metadata": {},
     "output_type": "execute_result"
    }
   ],
   "source": [
    "icustays = icustays.DataFrame()\n",
    "icustays = icustays[icustays.dbsource == 'metavision']\n",
    "icustays.head()"
   ]
  },
  {
   "cell_type": "code",
   "execution_count": 117,
   "metadata": {},
   "outputs": [],
   "source": [
    "icustays = icustays.merge(sepsis3, on='icustay_id', how='left')\n",
    "icustays.loc[icustays.sepsis3.isna(), 'sepsis3'] = 0"
   ]
  },
  {
   "cell_type": "code",
   "execution_count": 118,
   "metadata": {},
   "outputs": [],
   "source": [
    "icustays = icustays.merge(esrd.DataFrame(), on='hadm_id', how='left')\n",
    "icustays.loc[icustays.esrd.isna(), 'esrd'] = 0"
   ]
  },
  {
   "cell_type": "code",
   "execution_count": 119,
   "metadata": {},
   "outputs": [],
   "source": [
    "crrt = crrt.DataFrame().groupby('icustay_id').agg({'crrt_durations' : 'max'}).reset_index()\n",
    "icustays = icustays.merge(crrt, on='icustay_id', how='left')\n",
    "icustays.loc[icustays.crrt_durations > 0.0, 'crrt'] = 1\n",
    "icustays.loc[icustays.crrt_durations == 0.0, 'crrt'] = 0"
   ]
  },
  {
   "cell_type": "code",
   "execution_count": 120,
   "metadata": {},
   "outputs": [],
   "source": [
    "icustays = icustays.merge(rrt, on='icustay_id', how='left')\n",
    "icustays.loc[icustays.rrt.isna(), 'rrt'] = 0"
   ]
  },
  {
   "cell_type": "code",
   "execution_count": 121,
   "metadata": {},
   "outputs": [],
   "source": [
    "icustays = icustays.merge(total_cohort.DataFrame().drop(columns=['hadm_id', 'first_careunit', 'subject_id', 'los', 'intime', 'outtime']), on='icustay_id', how='left')\n",
    "icustays.loc[:, 'got_vasopressors'] = icustays['vaso_duration'] > 0\n",
    "icustays['got_vasopressors'] = icustays['got_vasopressors'].astype(int)\n"
   ]
  },
  {
   "cell_type": "code",
   "execution_count": 122,
   "metadata": {},
   "outputs": [],
   "source": [
    "icustays = icustays.merge(comorb_indicators, on='hadm_id', how='left')\n",
    "\n",
    "features_comorb = [_ for _ in comorb_indicators.columns if not _ in ['icustay_id']]\n",
    "for _ in features_comorb:\n",
    "    icustays.loc[icustays[_].isna(), _] = 0"
   ]
  },
  {
   "cell_type": "code",
   "execution_count": null,
   "metadata": {},
   "outputs": [],
   "source": []
  },
  {
   "cell_type": "code",
   "execution_count": 123,
   "metadata": {},
   "outputs": [
    {
     "data": {
      "text/plain": [
       "[u'admission_location',\n",
       " u'admission_type',\n",
       " u'admittime',\n",
       " u'age_yr',\n",
       " u'aids',\n",
       " u'alcohol_abuse',\n",
       " u'blood_loss_anemia',\n",
       " u'cardiac_arrhythmias',\n",
       " u'chronic_pulmonary',\n",
       " u'coagulopathy',\n",
       " u'congestive_heart_failure',\n",
       " 'crrt',\n",
       " 'crrt_durations',\n",
       " u'dbsource',\n",
       " u'deathtime',\n",
       " u'deficiency_anemias',\n",
       " u'depression',\n",
       " u'diabetes_complicated',\n",
       " u'diabetes_uncomplicated',\n",
       " u'diagnosis',\n",
       " u'diasbp_max',\n",
       " u'diasbp_mean',\n",
       " u'diasbp_min',\n",
       " u'dischtime',\n",
       " u'dob',\n",
       " u'dod',\n",
       " u'dod_hosp',\n",
       " u'drug_abuse',\n",
       " u'esrd',\n",
       " u'ethnicity',\n",
       " u'expire_flag',\n",
       " u'first_careunit',\n",
       " u'first_wardid',\n",
       " u'fluid_electrolyte',\n",
       " u'gender',\n",
       " u'glucose_max',\n",
       " u'glucose_mean',\n",
       " u'glucose_min',\n",
       " 'got_vasopressors',\n",
       " u'hadm_id',\n",
       " u'heartrate_max',\n",
       " u'heartrate_mean',\n",
       " u'heartrate_min',\n",
       " u'height',\n",
       " u'hospital_expire_flag',\n",
       " u'hypertension',\n",
       " u'hypothyroidism',\n",
       " u'icustay_id',\n",
       " u'intime',\n",
       " u'last_careunit',\n",
       " u'last_wardid',\n",
       " u'liver_disease',\n",
       " u'los',\n",
       " u'los_preicu',\n",
       " u'lymphoma',\n",
       " u'max_kdigo',\n",
       " u'max_kdigo_time',\n",
       " u'max_vaso_dosage',\n",
       " u'meanbp_max',\n",
       " u'meanbp_mean',\n",
       " u'meanbp_min',\n",
       " u'metastatic_cancer',\n",
       " u'min_ph_icustay',\n",
       " u'oasis',\n",
       " u'obesity',\n",
       " u'other_neurological',\n",
       " u'outtime',\n",
       " u'paralysis',\n",
       " u'peptic_ulcer',\n",
       " u'peripheral_vascular',\n",
       " u'psychoses',\n",
       " u'pulmonary_circulation',\n",
       " u'renal_failure',\n",
       " u'resprate_max',\n",
       " u'resprate_mean',\n",
       " u'resprate_min',\n",
       " u'rheumatoid_arthritis',\n",
       " u'row_id',\n",
       " u'rrt',\n",
       " u'sapsii_score',\n",
       " 'sepsis3',\n",
       " u'sofa_score',\n",
       " u'solid_tumor',\n",
       " u'spo2_max',\n",
       " u'spo2_mean',\n",
       " u'spo2_min',\n",
       " u'subject_id',\n",
       " u'sysbp_max',\n",
       " u'sysbp_mean',\n",
       " u'sysbp_min',\n",
       " u'tempc_max',\n",
       " u'tempc_mean',\n",
       " u'tempc_min',\n",
       " u'valvular_disease',\n",
       " u'vaso_duration',\n",
       " u'was_ventilated_24h',\n",
       " u'weight',\n",
       " u'weight_loss',\n",
       " u'wtdiff']"
      ]
     },
     "execution_count": 123,
     "metadata": {},
     "output_type": "execute_result"
    }
   ],
   "source": [
    "sorted(icustays.columns)"
   ]
  },
  {
   "cell_type": "code",
   "execution_count": 124,
   "metadata": {},
   "outputs": [
    {
     "data": {
      "text/plain": [
       "23620"
      ]
     },
     "execution_count": 124,
     "metadata": {},
     "output_type": "execute_result"
    }
   ],
   "source": [
    "icustays.icustay_id.nunique()"
   ]
  },
  {
   "cell_type": "code",
   "execution_count": 125,
   "metadata": {},
   "outputs": [
    {
     "data": {
      "text/plain": [
       "14233"
      ]
     },
     "execution_count": 125,
     "metadata": {},
     "output_type": "execute_result"
    }
   ],
   "source": [
    "icustays[(icustays.age_yr >= 18) & (icustays.sepsis3 == 1)].icustay_id.nunique()"
   ]
  },
  {
   "cell_type": "code",
   "execution_count": 126,
   "metadata": {},
   "outputs": [
    {
     "data": {
      "text/plain": [
       "8527"
      ]
     },
     "execution_count": 126,
     "metadata": {},
     "output_type": "execute_result"
    }
   ],
   "source": [
    "icustays[(icustays.age_yr >= 18) & (icustays.sepsis3 == 1) & ((icustays.los >= 2.0))].icustay_id.nunique()"
   ]
  },
  {
   "cell_type": "code",
   "execution_count": 127,
   "metadata": {},
   "outputs": [
    {
     "data": {
      "text/plain": [
       "7892"
      ]
     },
     "execution_count": 127,
     "metadata": {},
     "output_type": "execute_result"
    }
   ],
   "source": [
    "icustays[(icustays.age_yr >= 18) & (icustays.sepsis3 == 1) & (icustays.esrd == 0) & ((icustays.los >= 2.0))].icustay_id.nunique()"
   ]
  },
  {
   "cell_type": "code",
   "execution_count": 128,
   "metadata": {},
   "outputs": [
    {
     "data": {
      "text/plain": [
       "4754"
      ]
     },
     "execution_count": 128,
     "metadata": {},
     "output_type": "execute_result"
    }
   ],
   "source": [
    "icustays[(icustays.max_kdigo > 0) & (icustays.age_yr >= 18) & (icustays.sepsis3 == 1) & (icustays.esrd == 0) & (icustays.los >= 2.0)].icustay_id.nunique()"
   ]
  },
  {
   "cell_type": "code",
   "execution_count": 129,
   "metadata": {},
   "outputs": [
    {
     "data": {
      "text/plain": [
       "386"
      ]
     },
     "execution_count": 129,
     "metadata": {},
     "output_type": "execute_result"
    }
   ],
   "source": [
    "icustays[(icustays.max_kdigo > 0) & (icustays.rrt == 1.0) & (icustays.age_yr >= 18) & (icustays.sepsis3 == 1) & (icustays.esrd == 0) & (icustays.los >= 2.0)].icustay_id.nunique()"
   ]
  },
  {
   "cell_type": "code",
   "execution_count": 130,
   "metadata": {},
   "outputs": [
    {
     "data": {
      "text/plain": [
       "4368"
      ]
     },
     "execution_count": 130,
     "metadata": {},
     "output_type": "execute_result"
    }
   ],
   "source": [
    "icustays[(icustays.max_kdigo > 0) & (icustays.rrt == 0) & (icustays.age_yr >= 18) & (icustays.sepsis3 == 1) & (icustays.esrd == 0) & (icustays.los >= 2.0)].icustay_id.nunique()"
   ]
  },
  {
   "cell_type": "code",
   "execution_count": 131,
   "metadata": {},
   "outputs": [
    {
     "data": {
      "text/plain": [
       "280"
      ]
     },
     "execution_count": 131,
     "metadata": {},
     "output_type": "execute_result"
    }
   ],
   "source": [
    "icustays[(icustays.max_kdigo > 0) & (icustays.crrt == 1) & (icustays.age_yr >= 18) & (icustays.sepsis3 == 1) & (icustays.esrd == 0) & (icustays.los >= 2.0)].icustay_id.nunique()"
   ]
  },
  {
   "cell_type": "code",
   "execution_count": 137,
   "metadata": {},
   "outputs": [],
   "source": [
    "icustays[(icustays.max_kdigo > 0) & (icustays.age_yr >= 18) & (icustays.sepsis3 == 1) & (icustays.esrd == 0) & (icustays.los >= 2.0)].to_csv('./cohort_aki_sepsis3_11clock16.csv')"
   ]
  },
  {
   "cell_type": "code",
   "execution_count": 136,
   "metadata": {},
   "outputs": [
    {
     "data": {
      "text/plain": [
       "(386, 99)"
      ]
     },
     "execution_count": 136,
     "metadata": {},
     "output_type": "execute_result"
    }
   ],
   "source": [
    "icustays[(icustays.rrt == 1) & (icustays.max_kdigo > 0) & (icustays.age_yr >= 18) & (icustays.sepsis3 == 1) & (icustays.esrd == 0) & (icustays.los >= 2.0)].shape"
   ]
  },
  {
   "cell_type": "code",
   "execution_count": 138,
   "metadata": {},
   "outputs": [
    {
     "data": {
      "text/plain": [
       "(4754, 99)"
      ]
     },
     "execution_count": 138,
     "metadata": {},
     "output_type": "execute_result"
    }
   ],
   "source": [
    "icustays[(icustays.max_kdigo > 0) & (icustays.age_yr >= 18) & (icustays.sepsis3 == 1) & (icustays.esrd == 0) & (icustays.los >= 2.0)].shape"
   ]
  },
  {
   "cell_type": "code",
   "execution_count": null,
   "metadata": {},
   "outputs": [],
   "source": [
    " icustays[(icustays.max_kdigo > 0) & (icustays.age_yr >= 18) & (icustays.sepsis3 == 1) & (icustays.esrd == 0) & (icustays.los >= 2.0)]"
   ]
  },
  {
   "cell_type": "code",
   "execution_count": 133,
   "metadata": {},
   "outputs": [
    {
     "data": {
      "text/plain": [
       "(23620, 99)"
      ]
     },
     "execution_count": 133,
     "metadata": {},
     "output_type": "execute_result"
    }
   ],
   "source": [
    "icustays.shape"
   ]
  },
  {
   "cell_type": "code",
   "execution_count": 134,
   "metadata": {},
   "outputs": [
    {
     "data": {
      "text/plain": [
       "(7892, 99)"
      ]
     },
     "execution_count": 134,
     "metadata": {},
     "output_type": "execute_result"
    }
   ],
   "source": [
    "icustays[(icustays.age_yr >= 18) & (icustays.sepsis3 == 1) & (icustays.esrd == 0) & (icustays.los >= 2.0)].shape"
   ]
  },
  {
   "cell_type": "code",
   "execution_count": null,
   "metadata": {},
   "outputs": [],
   "source": [
    "print(classification_report(y_true, y_pred, target_names=target_names))"
   ]
  },
  {
   "cell_type": "markdown",
   "metadata": {},
   "source": [
    "## Table 1"
   ]
  },
  {
   "cell_type": "code",
   "execution_count": null,
   "metadata": {},
   "outputs": [],
   "source": []
  },
  {
   "cell_type": "markdown",
   "metadata": {},
   "source": [
    "### Backup"
   ]
  },
  {
   "cell_type": "code",
   "execution_count": 131,
   "metadata": {},
   "outputs": [],
   "source": [
    "vasopressors = vasopressors[~((vasopressors.endtime < vasopressors.intime) | (vasopressors.starttime > vasopressors.outtime))].reset_index(drop=True)"
   ]
  },
  {
   "cell_type": "code",
   "execution_count": 134,
   "metadata": {},
   "outputs": [
    {
     "data": {
      "text/html": [
       "<div>\n",
       "<style scoped>\n",
       "    .dataframe tbody tr th:only-of-type {\n",
       "        vertical-align: middle;\n",
       "    }\n",
       "\n",
       "    .dataframe tbody tr th {\n",
       "        vertical-align: top;\n",
       "    }\n",
       "\n",
       "    .dataframe thead th {\n",
       "        text-align: right;\n",
       "    }\n",
       "</style>\n",
       "<table border=\"1\" class=\"dataframe\">\n",
       "  <thead>\n",
       "    <tr style=\"text-align: right;\">\n",
       "      <th></th>\n",
       "      <th>hadm_id</th>\n",
       "      <th>icustay_id</th>\n",
       "      <th>antibiotic_time</th>\n",
       "      <th>antibiotic_endtime</th>\n",
       "    </tr>\n",
       "  </thead>\n",
       "  <tbody>\n",
       "    <tr>\n",
       "      <th>0</th>\n",
       "      <td>116009</td>\n",
       "      <td>216609</td>\n",
       "      <td>2113-02-15 00:20:44</td>\n",
       "      <td>2113-02-16 00:00:00</td>\n",
       "    </tr>\n",
       "    <tr>\n",
       "      <th>1</th>\n",
       "      <td>116009</td>\n",
       "      <td>216609</td>\n",
       "      <td>2113-02-15 00:20:44</td>\n",
       "      <td>2113-02-16 00:00:00</td>\n",
       "    </tr>\n",
       "    <tr>\n",
       "      <th>2</th>\n",
       "      <td>116009</td>\n",
       "      <td>216609</td>\n",
       "      <td>2113-02-15 00:20:44</td>\n",
       "      <td>2113-02-17 00:00:00</td>\n",
       "    </tr>\n",
       "    <tr>\n",
       "      <th>3</th>\n",
       "      <td>115385</td>\n",
       "      <td>256068</td>\n",
       "      <td>2148-11-12 00:00:00</td>\n",
       "      <td>2148-11-12 16:46:47</td>\n",
       "    </tr>\n",
       "    <tr>\n",
       "      <th>4</th>\n",
       "      <td>156857</td>\n",
       "      <td>239612</td>\n",
       "      <td>2163-09-23 00:00:00</td>\n",
       "      <td>2163-09-23 00:00:00</td>\n",
       "    </tr>\n",
       "  </tbody>\n",
       "</table>\n",
       "</div>"
      ],
      "text/plain": [
       "   hadm_id  icustay_id     antibiotic_time  antibiotic_endtime\n",
       "0   116009      216609 2113-02-15 00:20:44 2113-02-16 00:00:00\n",
       "1   116009      216609 2113-02-15 00:20:44 2113-02-16 00:00:00\n",
       "2   116009      216609 2113-02-15 00:20:44 2113-02-17 00:00:00\n",
       "3   115385      256068 2148-11-12 00:00:00 2148-11-12 16:46:47\n",
       "4   156857      239612 2163-09-23 00:00:00 2163-09-23 00:00:00"
      ]
     },
     "execution_count": 134,
     "metadata": {},
     "output_type": "execute_result"
    }
   ],
   "source": [
    "antibiotics = pd.read_csv('~/Downloads/antibiotics_no_limit.csv')\n",
    "antibiotics.antibiotic_time = pd.to_datetime(antibiotics.antibiotic_time)\n",
    "antibiotics.antibiotic_endtime = pd.to_datetime(antibiotics.antibiotic_endtime)"
   ]
  },
  {
   "cell_type": "code",
   "execution_count": 135,
   "metadata": {},
   "outputs": [],
   "source": [
    "antibiotics = antibiotics.dropna(subset=['antibiotic_time']).reset_index(drop=True)"
   ]
  },
  {
   "cell_type": "code",
   "execution_count": 138,
   "metadata": {},
   "outputs": [
    {
     "data": {
      "text/html": [
       "<div>\n",
       "<style scoped>\n",
       "    .dataframe tbody tr th:only-of-type {\n",
       "        vertical-align: middle;\n",
       "    }\n",
       "\n",
       "    .dataframe tbody tr th {\n",
       "        vertical-align: top;\n",
       "    }\n",
       "\n",
       "    .dataframe thead th {\n",
       "        text-align: right;\n",
       "    }\n",
       "</style>\n",
       "<table border=\"1\" class=\"dataframe\">\n",
       "  <thead>\n",
       "    <tr style=\"text-align: right;\">\n",
       "      <th></th>\n",
       "      <th>icustay_id</th>\n",
       "      <th>vasonum</th>\n",
       "      <th>starttime</th>\n",
       "      <th>endtime</th>\n",
       "      <th>duration_hours</th>\n",
       "      <th>intime</th>\n",
       "      <th>outtime</th>\n",
       "      <th>hadm_id</th>\n",
       "      <th>antibiotic_time</th>\n",
       "      <th>antibiotic_endtime</th>\n",
       "    </tr>\n",
       "  </thead>\n",
       "  <tbody>\n",
       "    <tr>\n",
       "      <th>0</th>\n",
       "      <td>200024</td>\n",
       "      <td>1</td>\n",
       "      <td>2127-03-03 16:15:00</td>\n",
       "      <td>2127-03-03 20:35:00</td>\n",
       "      <td>4.333333</td>\n",
       "      <td>2127-03-03 16:09:07</td>\n",
       "      <td>2127-03-04 01:18:06</td>\n",
       "      <td>NaN</td>\n",
       "      <td>NaT</td>\n",
       "      <td>NaT</td>\n",
       "    </tr>\n",
       "    <tr>\n",
       "      <th>1</th>\n",
       "      <td>200028</td>\n",
       "      <td>1</td>\n",
       "      <td>2133-10-29 17:47:00</td>\n",
       "      <td>2133-10-30 14:31:00</td>\n",
       "      <td>20.733333</td>\n",
       "      <td>2133-10-29 17:13:50</td>\n",
       "      <td>2133-11-01 14:55:14</td>\n",
       "      <td>NaN</td>\n",
       "      <td>NaT</td>\n",
       "      <td>NaT</td>\n",
       "    </tr>\n",
       "    <tr>\n",
       "      <th>2</th>\n",
       "      <td>200033</td>\n",
       "      <td>1</td>\n",
       "      <td>2198-08-10 18:30:00</td>\n",
       "      <td>2198-08-10 19:45:00</td>\n",
       "      <td>1.250000</td>\n",
       "      <td>2198-08-07 17:56:17</td>\n",
       "      <td>2198-08-21 14:59:18</td>\n",
       "      <td>198650.0</td>\n",
       "      <td>2198-08-14</td>\n",
       "      <td>2198-08-15</td>\n",
       "    </tr>\n",
       "    <tr>\n",
       "      <th>3</th>\n",
       "      <td>200033</td>\n",
       "      <td>1</td>\n",
       "      <td>2198-08-10 18:30:00</td>\n",
       "      <td>2198-08-10 19:45:00</td>\n",
       "      <td>1.250000</td>\n",
       "      <td>2198-08-07 17:56:17</td>\n",
       "      <td>2198-08-21 14:59:18</td>\n",
       "      <td>198650.0</td>\n",
       "      <td>2198-08-14</td>\n",
       "      <td>2198-08-20</td>\n",
       "    </tr>\n",
       "    <tr>\n",
       "      <th>4</th>\n",
       "      <td>200033</td>\n",
       "      <td>1</td>\n",
       "      <td>2198-08-10 18:30:00</td>\n",
       "      <td>2198-08-10 19:45:00</td>\n",
       "      <td>1.250000</td>\n",
       "      <td>2198-08-07 17:56:17</td>\n",
       "      <td>2198-08-21 14:59:18</td>\n",
       "      <td>198650.0</td>\n",
       "      <td>2198-08-14</td>\n",
       "      <td>2198-08-20</td>\n",
       "    </tr>\n",
       "  </tbody>\n",
       "</table>\n",
       "</div>"
      ],
      "text/plain": [
       "   icustay_id  vasonum           starttime             endtime  \\\n",
       "0      200024        1 2127-03-03 16:15:00 2127-03-03 20:35:00   \n",
       "1      200028        1 2133-10-29 17:47:00 2133-10-30 14:31:00   \n",
       "2      200033        1 2198-08-10 18:30:00 2198-08-10 19:45:00   \n",
       "3      200033        1 2198-08-10 18:30:00 2198-08-10 19:45:00   \n",
       "4      200033        1 2198-08-10 18:30:00 2198-08-10 19:45:00   \n",
       "\n",
       "   duration_hours              intime             outtime   hadm_id  \\\n",
       "0        4.333333 2127-03-03 16:09:07 2127-03-04 01:18:06       NaN   \n",
       "1       20.733333 2133-10-29 17:13:50 2133-11-01 14:55:14       NaN   \n",
       "2        1.250000 2198-08-07 17:56:17 2198-08-21 14:59:18  198650.0   \n",
       "3        1.250000 2198-08-07 17:56:17 2198-08-21 14:59:18  198650.0   \n",
       "4        1.250000 2198-08-07 17:56:17 2198-08-21 14:59:18  198650.0   \n",
       "\n",
       "  antibiotic_time antibiotic_endtime  \n",
       "0             NaT                NaT  \n",
       "1             NaT                NaT  \n",
       "2      2198-08-14         2198-08-15  \n",
       "3      2198-08-14         2198-08-20  \n",
       "4      2198-08-14         2198-08-20  "
      ]
     },
     "execution_count": 138,
     "metadata": {},
     "output_type": "execute_result"
    }
   ],
   "source": [
    "merged = vasopressors.merge(antibiotics, on='icustay_id', how='left').copy()"
   ]
  },
  {
   "cell_type": "code",
   "execution_count": 142,
   "metadata": {},
   "outputs": [],
   "source": [
    "merged = merged.dropna(subset=['antibiotic_time']).reset_index(drop=True).copy()"
   ]
  },
  {
   "cell_type": "code",
   "execution_count": 143,
   "metadata": {},
   "outputs": [],
   "source": [
    "merged_2 = merged[(((merged.antibiotic_time <= merged.starttime) & (merged.antibiotic_endtime >= merged.starttime)) | ((merged.antibiotic_time <= merged.endtime) & (merged.antibiotic_endtime >= merged.endtime)))].copy().reset_index(drop=True)"
   ]
  },
  {
   "cell_type": "code",
   "execution_count": 147,
   "metadata": {},
   "outputs": [],
   "source": [
    "pd.DataFrame([[_] for _ in list(merged_2.icustay_id.unique())], columns=['hadm_id']).to_csv('final_hadm_ids.csv')"
   ]
  },
  {
   "cell_type": "code",
   "execution_count": null,
   "metadata": {},
   "outputs": [],
   "source": []
  }
 ],
 "metadata": {
  "kernelspec": {
   "display_name": "Python 3",
   "language": "python",
   "name": "python3"
  },
  "language_info": {
   "codemirror_mode": {
    "name": "ipython",
    "version": 2
   },
   "file_extension": ".py",
   "mimetype": "text/x-python",
   "name": "python",
   "nbconvert_exporter": "python",
   "pygments_lexer": "ipython2",
   "version": "2.7.13"
  }
 },
 "nbformat": 4,
 "nbformat_minor": 2
}
